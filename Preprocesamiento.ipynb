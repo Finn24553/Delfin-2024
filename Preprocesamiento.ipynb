{
  "nbformat": 4,
  "nbformat_minor": 0,
  "metadata": {
    "colab": {
      "provenance": [],
      "mount_file_id": "1Nz_YHJCdUGCI6hfck4XGYfbYAPQXAsB2",
      "authorship_tag": "ABX9TyNRWLxuw6c7N8mrqw+Crjb/",
      "include_colab_link": true
    },
    "kernelspec": {
      "name": "python3",
      "display_name": "Python 3"
    },
    "language_info": {
      "name": "python"
    }
  },
  "cells": [
    {
      "cell_type": "markdown",
      "metadata": {
        "id": "view-in-github",
        "colab_type": "text"
      },
      "source": [
        "<a href=\"https://colab.research.google.com/github/Finn24553/Delfin-2024/blob/main/Preprocesamiento.ipynb\" target=\"_parent\"><img src=\"https://colab.research.google.com/assets/colab-badge.svg\" alt=\"Open In Colab\"/></a>"
      ]
    },
    {
      "cell_type": "code",
      "execution_count": null,
      "metadata": {
        "id": "ZGMYcgjTi4hT"
      },
      "outputs": [],
      "source": []
    },
    {
      "cell_type": "code",
      "source": [
        "import os\n",
        "import pandas as pd\n",
        "import numpy as np\n",
        "\n",
        "def load_data_from_folders(base_folder):\n",
        "    X = []\n",
        "    y = []\n",
        "\n",
        "    for label_folder in os.listdir(base_folder):\n",
        "        folder_path = os.path.join(base_folder, label_folder)\n",
        "\n",
        "        for label2_folder in os.listdir(folder_path):\n",
        "            folder2_path = os.path.join(folder_path, label2_folder)\n",
        "\n",
        "            if os.path.isdir(folder2_path):\n",
        "                for csv_file in os.listdir(folder2_path):\n",
        "                    if csv_file.endswith('.csv'):\n",
        "                        file_path = os.path.join(folder2_path, csv_file)\n",
        "                        data = pd.read_csv(file_path)\n",
        "                        # Suponemos que las columnas son 'Tiempo' y 'Amplitud'\n",
        "                        if data.shape[1] == 2:\n",
        "                            X.append(data.values)\n",
        "                            y.append(label_folder)\n",
        "\n",
        "    X = np.array(X)\n",
        "    y = np.array(y)\n",
        "\n",
        "    return X, y\n",
        "\n",
        "base_folder = r'/content/drive/MyDrive/Delfin Datos 2024/Datos Centro/Frente'\n",
        "X, y = load_data_from_folders(base_folder)\n",
        "print(X.shape)  # Debe imprimir (n_samples, 5132, 2)\n",
        "print(y.shape)  # Debe imprimir (n_samples,)"
      ],
      "metadata": {
        "colab": {
          "base_uri": "https://localhost:8080/"
        },
        "id": "pr6WrZ0MjBXG",
        "outputId": "001e9179-bf05-49ad-b16e-1f72267c5c8f"
      },
      "execution_count": null,
      "outputs": [
        {
          "output_type": "stream",
          "name": "stdout",
          "text": [
            "(1438, 5119, 2)\n",
            "(1438,)\n"
          ]
        }
      ]
    }
  ]
}